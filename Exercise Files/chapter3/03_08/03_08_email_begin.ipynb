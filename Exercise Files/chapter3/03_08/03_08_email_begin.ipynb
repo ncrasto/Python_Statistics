{
 "cells": [
  {
   "cell_type": "markdown",
   "metadata": {},
   "source": [
    "## Python statistics essential training - 03_08_email"
   ]
  },
  {
   "cell_type": "markdown",
   "metadata": {},
   "source": [
    "Standard imports"
   ]
  },
  {
   "cell_type": "code",
   "execution_count": 1,
   "metadata": {},
   "outputs": [],
   "source": [
    "import numpy as np\n",
    "import scipy.stats\n",
    "import pandas as pd"
   ]
  },
  {
   "cell_type": "code",
   "execution_count": 2,
   "metadata": {},
   "outputs": [],
   "source": [
    "import matplotlib\n",
    "import matplotlib.pyplot as pp\n",
    "\n",
    "import pandas.plotting\n",
    "\n",
    "from IPython import display\n",
    "from ipywidgets import interact, widgets\n",
    "\n",
    "%matplotlib inline"
   ]
  },
  {
   "cell_type": "code",
   "execution_count": 3,
   "metadata": {},
   "outputs": [],
   "source": [
    "import re\n",
    "import mailbox\n",
    "import csv"
   ]
  },
  {
   "cell_type": "markdown",
   "metadata": {},
   "source": [
    "### How I converted my mailbox."
   ]
  },
  {
   "cell_type": "code",
   "execution_count": null,
   "metadata": {},
   "outputs": [],
   "source": [
    "mbox = mailbox.mbox('Sent.mbox')"
   ]
  },
  {
   "cell_type": "markdown",
   "metadata": {},
   "source": [
    "The resulting object is array-like, with one entry per message. Each entry is dictionary like, with keys corresponding to metadata and data for each message."
   ]
  },
  {
   "cell_type": "code",
   "execution_count": null,
   "metadata": {},
   "outputs": [],
   "source": [
    "mbox[0].keys()"
   ]
  },
  {
   "cell_type": "markdown",
   "metadata": {},
   "source": [
    "The easiest way to get these data into Pandas is to build a CSV file from them. We use the module `csv` to write out the CSV file as we loop over the mailbox object. We save only subject, from, to, and date, and we write a simple header at the top with the names of columns."
   ]
  },
  {
   "cell_type": "code",
   "execution_count": null,
   "metadata": {},
   "outputs": [],
   "source": [
    "with open('mbox.csv', 'w') as outfile:\n",
    "    writer = csv.writer(outfile)\n",
    "    writer.writerow(['subject','from','to','date'])\n",
    "    \n",
    "    for message in mbox:\n",
    "        writer.writerow([message['subject'], message['from'], message['to'], message['date']])"
   ]
  },
  {
   "cell_type": "markdown",
   "metadata": {},
   "source": [
    "All done! Thanks to Justin Ellis for inspiration with https://jellis18.github.io/post/2018-01-17-mail-analysis."
   ]
  },
  {
   "cell_type": "markdown",
   "metadata": {},
   "source": [
    "## Moving on!"
   ]
  },
  {
   "cell_type": "code",
   "execution_count": 25,
   "metadata": {},
   "outputs": [
    {
     "data": {
      "text/html": [
       "<div>\n",
       "<style scoped>\n",
       "    .dataframe tbody tr th:only-of-type {\n",
       "        vertical-align: middle;\n",
       "    }\n",
       "\n",
       "    .dataframe tbody tr th {\n",
       "        vertical-align: top;\n",
       "    }\n",
       "\n",
       "    .dataframe thead th {\n",
       "        text-align: right;\n",
       "    }\n",
       "</style>\n",
       "<table border=\"1\" class=\"dataframe\">\n",
       "  <thead>\n",
       "    <tr style=\"text-align: right;\">\n",
       "      <th></th>\n",
       "      <th>subject</th>\n",
       "      <th>from</th>\n",
       "      <th>to</th>\n",
       "      <th>date</th>\n",
       "    </tr>\n",
       "  </thead>\n",
       "  <tbody>\n",
       "    <tr>\n",
       "      <th>0</th>\n",
       "      <td>Why control quickly exactly capital.</td>\n",
       "      <td>\"Vallisneri, Michele (335S)\" &lt;Michele.Vallisne...</td>\n",
       "      <td>\"Trevor Charles\" &lt;zrodriguez@hotmail.com&gt;</td>\n",
       "      <td>Mon, 27 Nov 2017 14:18:46 -0800</td>\n",
       "    </tr>\n",
       "    <tr>\n",
       "      <th>1</th>\n",
       "      <td>Work evidence from really threat sign store see.</td>\n",
       "      <td>Michele Vallisneri &lt;[]&gt;</td>\n",
       "      <td>\"Heather Hernandez\" &lt;patriciagarcia@garcia-car...</td>\n",
       "      <td>Mon, 26 Mar 2018 18:38:16 -0700</td>\n",
       "    </tr>\n",
       "    <tr>\n",
       "      <th>2</th>\n",
       "      <td>Lot where answer the law person.</td>\n",
       "      <td>\"Vallisneri, Michele (335S)\" &lt;michele.vallisne...</td>\n",
       "      <td>Bryce Dudley &lt;hailey63@frazier.com&gt;</td>\n",
       "      <td>Tue, 13 Feb 2018 22:54:50 +0000</td>\n",
       "    </tr>\n",
       "    <tr>\n",
       "      <th>3</th>\n",
       "      <td>Difference hotel yard.</td>\n",
       "      <td>\"Vallisneri, Michele (335S)\" &lt;Michele.Vallisne...</td>\n",
       "      <td>Kathryn Mathis &lt;josephrebecca@grimes.com&gt;</td>\n",
       "      <td>Fri, 26 Jan 2018 11:40:04 -0800</td>\n",
       "    </tr>\n",
       "    <tr>\n",
       "      <th>4</th>\n",
       "      <td>Long level mission energy candidate.</td>\n",
       "      <td>\"Vallisneri, Michele (335S)\" &lt;michele.vallisne...</td>\n",
       "      <td>\"Angela Mendoza\" &lt;rkhan@yahoo.com&gt;</td>\n",
       "      <td>Tue, 31 Oct 2017 00:13:00 +0000</td>\n",
       "    </tr>\n",
       "    <tr>\n",
       "      <th>...</th>\n",
       "      <td>...</td>\n",
       "      <td>...</td>\n",
       "      <td>...</td>\n",
       "      <td>...</td>\n",
       "    </tr>\n",
       "    <tr>\n",
       "      <th>1025</th>\n",
       "      <td>Walk begin around during seat affect within.</td>\n",
       "      <td>Michele Vallisneri &lt;michele.vallisneri@jpl.nas...</td>\n",
       "      <td>&lt;josephrodriguez@jimenez.net&gt;</td>\n",
       "      <td>Mon, 26 Mar 2018 10:40:36 -0700</td>\n",
       "    </tr>\n",
       "    <tr>\n",
       "      <th>1026</th>\n",
       "      <td>Page paper gun course represent will.</td>\n",
       "      <td>Michele Vallisneri &lt;michele.vallisneri@jpl.nas...</td>\n",
       "      <td>&lt;hshaw@yahoo.com&gt;</td>\n",
       "      <td>Tue, 6 Mar 2018 21:44:22 -0800</td>\n",
       "    </tr>\n",
       "    <tr>\n",
       "      <th>1027</th>\n",
       "      <td>Rate sing campaign wall similar seven staff pr...</td>\n",
       "      <td>Michele Vallisneri &lt;michele.vallisneri@jpl.nas...</td>\n",
       "      <td>Dr. Donna Nguyen &lt;emma32@aguirre.com&gt;</td>\n",
       "      <td>Tue, 23 Jan 2018 14:34:19 -0800</td>\n",
       "    </tr>\n",
       "    <tr>\n",
       "      <th>1028</th>\n",
       "      <td>Education outside strong build time organizati...</td>\n",
       "      <td>Michele Vallisneri &lt;michele.vallisneri@jpl.nas...</td>\n",
       "      <td>&lt;charles67@gmail.com&gt;</td>\n",
       "      <td>Wed, 20 Dec 2017 08:28:47 -0800</td>\n",
       "    </tr>\n",
       "    <tr>\n",
       "      <th>1029</th>\n",
       "      <td>Authority city police near.</td>\n",
       "      <td>\"Vallisneri, Michele (335S)\" &lt;Michele.Vallisne...</td>\n",
       "      <td>Erika Williams &lt;daniel71@cunningham-williams.com&gt;</td>\n",
       "      <td>Thu, 12 Oct 2017 14:26:18 -0700</td>\n",
       "    </tr>\n",
       "  </tbody>\n",
       "</table>\n",
       "<p>1030 rows × 4 columns</p>\n",
       "</div>"
      ],
      "text/plain": [
       "                                                subject  \\\n",
       "0                  Why control quickly exactly capital.   \n",
       "1      Work evidence from really threat sign store see.   \n",
       "2                      Lot where answer the law person.   \n",
       "3                                Difference hotel yard.   \n",
       "4                  Long level mission energy candidate.   \n",
       "...                                                 ...   \n",
       "1025       Walk begin around during seat affect within.   \n",
       "1026              Page paper gun course represent will.   \n",
       "1027  Rate sing campaign wall similar seven staff pr...   \n",
       "1028  Education outside strong build time organizati...   \n",
       "1029                        Authority city police near.   \n",
       "\n",
       "                                                   from  \\\n",
       "0     \"Vallisneri, Michele (335S)\" <Michele.Vallisne...   \n",
       "1                               Michele Vallisneri <[]>   \n",
       "2     \"Vallisneri, Michele (335S)\" <michele.vallisne...   \n",
       "3     \"Vallisneri, Michele (335S)\" <Michele.Vallisne...   \n",
       "4     \"Vallisneri, Michele (335S)\" <michele.vallisne...   \n",
       "...                                                 ...   \n",
       "1025  Michele Vallisneri <michele.vallisneri@jpl.nas...   \n",
       "1026  Michele Vallisneri <michele.vallisneri@jpl.nas...   \n",
       "1027  Michele Vallisneri <michele.vallisneri@jpl.nas...   \n",
       "1028  Michele Vallisneri <michele.vallisneri@jpl.nas...   \n",
       "1029  \"Vallisneri, Michele (335S)\" <Michele.Vallisne...   \n",
       "\n",
       "                                                     to  \\\n",
       "0             \"Trevor Charles\" <zrodriguez@hotmail.com>   \n",
       "1     \"Heather Hernandez\" <patriciagarcia@garcia-car...   \n",
       "2                   Bryce Dudley <hailey63@frazier.com>   \n",
       "3             Kathryn Mathis <josephrebecca@grimes.com>   \n",
       "4                    \"Angela Mendoza\" <rkhan@yahoo.com>   \n",
       "...                                                 ...   \n",
       "1025                      <josephrodriguez@jimenez.net>   \n",
       "1026                                  <hshaw@yahoo.com>   \n",
       "1027              Dr. Donna Nguyen <emma32@aguirre.com>   \n",
       "1028                              <charles67@gmail.com>   \n",
       "1029  Erika Williams <daniel71@cunningham-williams.com>   \n",
       "\n",
       "                                 date  \n",
       "0     Mon, 27 Nov 2017 14:18:46 -0800  \n",
       "1     Mon, 26 Mar 2018 18:38:16 -0700  \n",
       "2     Tue, 13 Feb 2018 22:54:50 +0000  \n",
       "3     Fri, 26 Jan 2018 11:40:04 -0800  \n",
       "4     Tue, 31 Oct 2017 00:13:00 +0000  \n",
       "...                               ...  \n",
       "1025  Mon, 26 Mar 2018 10:40:36 -0700  \n",
       "1026   Tue, 6 Mar 2018 21:44:22 -0800  \n",
       "1027  Tue, 23 Jan 2018 14:34:19 -0800  \n",
       "1028  Wed, 20 Dec 2017 08:28:47 -0800  \n",
       "1029  Thu, 12 Oct 2017 14:26:18 -0700  \n",
       "\n",
       "[1030 rows x 4 columns]"
      ]
     },
     "execution_count": 25,
     "metadata": {},
     "output_type": "execute_result"
    }
   ],
   "source": [
    "messages = pd.read_csv('mbox-anonymized.csv')\n",
    "messages"
   ]
  },
  {
   "cell_type": "code",
   "execution_count": 26,
   "metadata": {},
   "outputs": [
    {
     "name": "stdout",
     "output_type": "stream",
     "text": [
      "<class 'pandas.core.frame.DataFrame'>\n",
      "RangeIndex: 1030 entries, 0 to 1029\n",
      "Data columns (total 4 columns):\n",
      " #   Column   Non-Null Count  Dtype \n",
      "---  ------   --------------  ----- \n",
      " 0   subject  1030 non-null   object\n",
      " 1   from     1029 non-null   object\n",
      " 2   to       1030 non-null   object\n",
      " 3   date     1030 non-null   object\n",
      "dtypes: object(4)\n",
      "memory usage: 32.3+ KB\n"
     ]
    }
   ],
   "source": [
    "messages.info()"
   ]
  },
  {
   "cell_type": "code",
   "execution_count": 27,
   "metadata": {},
   "outputs": [
    {
     "data": {
      "text/plain": [
       "'\"Vallisneri, Michele (335S)\" <Michele.Vallisneri@jpl.nasa.gov>'"
      ]
     },
     "execution_count": 27,
     "metadata": {},
     "output_type": "execute_result"
    }
   ],
   "source": [
    "messages['from'][0]"
   ]
  },
  {
   "cell_type": "code",
   "execution_count": 29,
   "metadata": {},
   "outputs": [
    {
     "data": {
      "text/plain": [
       "'<Michele.Vallisneri@jpl.nasa.gov>'"
      ]
     },
     "execution_count": 29,
     "metadata": {},
     "output_type": "execute_result"
    }
   ],
   "source": [
    "re.search('<(.+)>', messages['from'][0]).group(0)"
   ]
  },
  {
   "cell_type": "code",
   "execution_count": 30,
   "metadata": {},
   "outputs": [
    {
     "data": {
      "text/plain": [
       "'Michele.Vallisneri@jpl.nasa.gov'"
      ]
     },
     "execution_count": 30,
     "metadata": {},
     "output_type": "execute_result"
    }
   ],
   "source": [
    "re.search ('<(.+)>', messages['from'] [0]).group(1)"
   ]
  },
  {
   "cell_type": "code",
   "execution_count": 31,
   "metadata": {},
   "outputs": [],
   "source": [
    "def clean_email_address(email):\n",
    "    match = re.search('<(.+)>', email)\n",
    "    \n",
    "    if match is None:\n",
    "        return email.group(0)\n",
    "    else:\n",
    "        return match.group(1)"
   ]
  },
  {
   "cell_type": "code",
   "execution_count": 32,
   "metadata": {},
   "outputs": [],
   "source": [
    "messages['from'] = messages['from'].dropna().apply(clean_email_address)"
   ]
  },
  {
   "cell_type": "code",
   "execution_count": 33,
   "metadata": {},
   "outputs": [
    {
     "data": {
      "text/html": [
       "<div>\n",
       "<style scoped>\n",
       "    .dataframe tbody tr th:only-of-type {\n",
       "        vertical-align: middle;\n",
       "    }\n",
       "\n",
       "    .dataframe tbody tr th {\n",
       "        vertical-align: top;\n",
       "    }\n",
       "\n",
       "    .dataframe thead th {\n",
       "        text-align: right;\n",
       "    }\n",
       "</style>\n",
       "<table border=\"1\" class=\"dataframe\">\n",
       "  <thead>\n",
       "    <tr style=\"text-align: right;\">\n",
       "      <th></th>\n",
       "      <th>subject</th>\n",
       "      <th>from</th>\n",
       "      <th>to</th>\n",
       "      <th>date</th>\n",
       "    </tr>\n",
       "  </thead>\n",
       "  <tbody>\n",
       "    <tr>\n",
       "      <th>0</th>\n",
       "      <td>Why control quickly exactly capital.</td>\n",
       "      <td>Michele.Vallisneri@jpl.nasa.gov</td>\n",
       "      <td>\"Trevor Charles\" &lt;zrodriguez@hotmail.com&gt;</td>\n",
       "      <td>Mon, 27 Nov 2017 14:18:46 -0800</td>\n",
       "    </tr>\n",
       "    <tr>\n",
       "      <th>1</th>\n",
       "      <td>Work evidence from really threat sign store see.</td>\n",
       "      <td>[]</td>\n",
       "      <td>\"Heather Hernandez\" &lt;patriciagarcia@garcia-car...</td>\n",
       "      <td>Mon, 26 Mar 2018 18:38:16 -0700</td>\n",
       "    </tr>\n",
       "    <tr>\n",
       "      <th>2</th>\n",
       "      <td>Lot where answer the law person.</td>\n",
       "      <td>michele.vallisneri@jpl.nasa.gov</td>\n",
       "      <td>Bryce Dudley &lt;hailey63@frazier.com&gt;</td>\n",
       "      <td>Tue, 13 Feb 2018 22:54:50 +0000</td>\n",
       "    </tr>\n",
       "    <tr>\n",
       "      <th>3</th>\n",
       "      <td>Difference hotel yard.</td>\n",
       "      <td>Michele.Vallisneri@jpl.nasa.gov</td>\n",
       "      <td>Kathryn Mathis &lt;josephrebecca@grimes.com&gt;</td>\n",
       "      <td>Fri, 26 Jan 2018 11:40:04 -0800</td>\n",
       "    </tr>\n",
       "    <tr>\n",
       "      <th>4</th>\n",
       "      <td>Long level mission energy candidate.</td>\n",
       "      <td>michele.vallisneri@jpl.nasa.gov</td>\n",
       "      <td>\"Angela Mendoza\" &lt;rkhan@yahoo.com&gt;</td>\n",
       "      <td>Tue, 31 Oct 2017 00:13:00 +0000</td>\n",
       "    </tr>\n",
       "    <tr>\n",
       "      <th>...</th>\n",
       "      <td>...</td>\n",
       "      <td>...</td>\n",
       "      <td>...</td>\n",
       "      <td>...</td>\n",
       "    </tr>\n",
       "    <tr>\n",
       "      <th>1025</th>\n",
       "      <td>Walk begin around during seat affect within.</td>\n",
       "      <td>michele.vallisneri@jpl.nasa.gov</td>\n",
       "      <td>&lt;josephrodriguez@jimenez.net&gt;</td>\n",
       "      <td>Mon, 26 Mar 2018 10:40:36 -0700</td>\n",
       "    </tr>\n",
       "    <tr>\n",
       "      <th>1026</th>\n",
       "      <td>Page paper gun course represent will.</td>\n",
       "      <td>michele.vallisneri@jpl.nasa.gov</td>\n",
       "      <td>&lt;hshaw@yahoo.com&gt;</td>\n",
       "      <td>Tue, 6 Mar 2018 21:44:22 -0800</td>\n",
       "    </tr>\n",
       "    <tr>\n",
       "      <th>1027</th>\n",
       "      <td>Rate sing campaign wall similar seven staff pr...</td>\n",
       "      <td>michele.vallisneri@jpl.nasa.gov</td>\n",
       "      <td>Dr. Donna Nguyen &lt;emma32@aguirre.com&gt;</td>\n",
       "      <td>Tue, 23 Jan 2018 14:34:19 -0800</td>\n",
       "    </tr>\n",
       "    <tr>\n",
       "      <th>1028</th>\n",
       "      <td>Education outside strong build time organizati...</td>\n",
       "      <td>michele.vallisneri@jpl.nasa.gov</td>\n",
       "      <td>&lt;charles67@gmail.com&gt;</td>\n",
       "      <td>Wed, 20 Dec 2017 08:28:47 -0800</td>\n",
       "    </tr>\n",
       "    <tr>\n",
       "      <th>1029</th>\n",
       "      <td>Authority city police near.</td>\n",
       "      <td>Michele.Vallisneri@jpl.nasa.gov</td>\n",
       "      <td>Erika Williams &lt;daniel71@cunningham-williams.com&gt;</td>\n",
       "      <td>Thu, 12 Oct 2017 14:26:18 -0700</td>\n",
       "    </tr>\n",
       "  </tbody>\n",
       "</table>\n",
       "<p>1030 rows × 4 columns</p>\n",
       "</div>"
      ],
      "text/plain": [
       "                                                subject  \\\n",
       "0                  Why control quickly exactly capital.   \n",
       "1      Work evidence from really threat sign store see.   \n",
       "2                      Lot where answer the law person.   \n",
       "3                                Difference hotel yard.   \n",
       "4                  Long level mission energy candidate.   \n",
       "...                                                 ...   \n",
       "1025       Walk begin around during seat affect within.   \n",
       "1026              Page paper gun course represent will.   \n",
       "1027  Rate sing campaign wall similar seven staff pr...   \n",
       "1028  Education outside strong build time organizati...   \n",
       "1029                        Authority city police near.   \n",
       "\n",
       "                                 from  \\\n",
       "0     Michele.Vallisneri@jpl.nasa.gov   \n",
       "1                                  []   \n",
       "2     michele.vallisneri@jpl.nasa.gov   \n",
       "3     Michele.Vallisneri@jpl.nasa.gov   \n",
       "4     michele.vallisneri@jpl.nasa.gov   \n",
       "...                               ...   \n",
       "1025  michele.vallisneri@jpl.nasa.gov   \n",
       "1026  michele.vallisneri@jpl.nasa.gov   \n",
       "1027  michele.vallisneri@jpl.nasa.gov   \n",
       "1028  michele.vallisneri@jpl.nasa.gov   \n",
       "1029  Michele.Vallisneri@jpl.nasa.gov   \n",
       "\n",
       "                                                     to  \\\n",
       "0             \"Trevor Charles\" <zrodriguez@hotmail.com>   \n",
       "1     \"Heather Hernandez\" <patriciagarcia@garcia-car...   \n",
       "2                   Bryce Dudley <hailey63@frazier.com>   \n",
       "3             Kathryn Mathis <josephrebecca@grimes.com>   \n",
       "4                    \"Angela Mendoza\" <rkhan@yahoo.com>   \n",
       "...                                                 ...   \n",
       "1025                      <josephrodriguez@jimenez.net>   \n",
       "1026                                  <hshaw@yahoo.com>   \n",
       "1027              Dr. Donna Nguyen <emma32@aguirre.com>   \n",
       "1028                              <charles67@gmail.com>   \n",
       "1029  Erika Williams <daniel71@cunningham-williams.com>   \n",
       "\n",
       "                                 date  \n",
       "0     Mon, 27 Nov 2017 14:18:46 -0800  \n",
       "1     Mon, 26 Mar 2018 18:38:16 -0700  \n",
       "2     Tue, 13 Feb 2018 22:54:50 +0000  \n",
       "3     Fri, 26 Jan 2018 11:40:04 -0800  \n",
       "4     Tue, 31 Oct 2017 00:13:00 +0000  \n",
       "...                               ...  \n",
       "1025  Mon, 26 Mar 2018 10:40:36 -0700  \n",
       "1026   Tue, 6 Mar 2018 21:44:22 -0800  \n",
       "1027  Tue, 23 Jan 2018 14:34:19 -0800  \n",
       "1028  Wed, 20 Dec 2017 08:28:47 -0800  \n",
       "1029  Thu, 12 Oct 2017 14:26:18 -0700  \n",
       "\n",
       "[1030 rows x 4 columns]"
      ]
     },
     "execution_count": 33,
     "metadata": {},
     "output_type": "execute_result"
    }
   ],
   "source": [
    "messages\n"
   ]
  },
  {
   "cell_type": "code",
   "execution_count": 34,
   "metadata": {},
   "outputs": [
    {
     "data": {
      "text/plain": [
       "'Mon, 27 Nov 2017 14:18:46 -0800'"
      ]
     },
     "execution_count": 34,
     "metadata": {},
     "output_type": "execute_result"
    }
   ],
   "source": [
    "messages['date'][0]"
   ]
  },
  {
   "cell_type": "code",
   "execution_count": 35,
   "metadata": {},
   "outputs": [
    {
     "data": {
      "text/plain": [
       "Timestamp('2017-11-27 14:18:46-0800', tz='pytz.FixedOffset(-480)')"
      ]
     },
     "execution_count": 35,
     "metadata": {},
     "output_type": "execute_result"
    }
   ],
   "source": [
    "pd.to_datetime(messages['date'][0])"
   ]
  },
  {
   "cell_type": "code",
   "execution_count": 36,
   "metadata": {},
   "outputs": [
    {
     "data": {
      "text/plain": [
       "Timestamp('2017-11-27 22:18:46+0000', tz='UTC')"
      ]
     },
     "execution_count": 36,
     "metadata": {},
     "output_type": "execute_result"
    }
   ],
   "source": [
    "pd.to_datetime(messages['date'][0]).tz_convert('UTC')"
   ]
  },
  {
   "cell_type": "code",
   "execution_count": 37,
   "metadata": {},
   "outputs": [
    {
     "data": {
      "text/plain": [
       "Timestamp('2017-11-27 15:18:46-0700', tz='America/Denver')"
      ]
     },
     "execution_count": 37,
     "metadata": {},
     "output_type": "execute_result"
    }
   ],
   "source": [
    "pd.to_datetime(messages['date'][0]).tz_convert('America/Denver')"
   ]
  },
  {
   "cell_type": "code",
   "execution_count": 38,
   "metadata": {},
   "outputs": [],
   "source": [
    "messages['date'] = messages['date'].apply(lambda s: pd.to_datetime(s).tz_convert('America/Denver'))"
   ]
  },
  {
   "cell_type": "code",
   "execution_count": 39,
   "metadata": {},
   "outputs": [
    {
     "data": {
      "text/plain": [
       "(Timestamp('2017-07-01 00:26:52-0600', tz='America/Denver'),\n",
       " Timestamp('2018-05-13 09:40:20-0600', tz='America/Denver'))"
      ]
     },
     "execution_count": 39,
     "metadata": {},
     "output_type": "execute_result"
    }
   ],
   "source": [
    "messages['date'].min(), messages['date'].max()"
   ]
  },
  {
   "cell_type": "code",
   "execution_count": 54,
   "metadata": {},
   "outputs": [
    {
     "data": {
      "text/plain": [
       "<bound method PandasDelegate._add_delegate_accessors.<locals>._create_delegator_method.<locals>.f of <pandas.core.indexes.accessors.DatetimeProperties object at 0x7fdd7d0b18d0>>"
      ]
     },
     "execution_count": 54,
     "metadata": {},
     "output_type": "execute_result"
    }
   ],
   "source": [
    "messages['date'].dt.day_name"
   ]
  },
  {
   "cell_type": "code",
   "execution_count": 53,
   "metadata": {},
   "outputs": [
    {
     "ename": "ValueError",
     "evalue": "Length of values (1) does not match length of index (1030)",
     "output_type": "error",
     "traceback": [
      "\u001b[0;31m---------------------------------------------------------------------------\u001b[0m",
      "\u001b[0;31mValueError\u001b[0m                                Traceback (most recent call last)",
      "\u001b[0;32m<ipython-input-53-81794d7860af>\u001b[0m in \u001b[0;36m<module>\u001b[0;34m\u001b[0m\n\u001b[1;32m      1\u001b[0m messages['dayofweek'] = pd.Categorical(messages['date'].dt.day_name,\n\u001b[1;32m      2\u001b[0m                                        \u001b[0mordered\u001b[0m \u001b[0;34m=\u001b[0m \u001b[0;32mTrue\u001b[0m\u001b[0;34m,\u001b[0m\u001b[0;34m\u001b[0m\u001b[0;34m\u001b[0m\u001b[0m\n\u001b[0;32m----> 3\u001b[0;31m                                        \u001b[0mcategories\u001b[0m\u001b[0;34m=\u001b[0m \u001b[0;34m[\u001b[0m\u001b[0;34m'Monday'\u001b[0m\u001b[0;34m,\u001b[0m\u001b[0;34m'Tuesday'\u001b[0m\u001b[0;34m,\u001b[0m\u001b[0;34m'Wednesday'\u001b[0m\u001b[0;34m,\u001b[0m\u001b[0;34m'Thursday'\u001b[0m\u001b[0;34m,\u001b[0m\u001b[0;34m'Friday'\u001b[0m\u001b[0;34m,\u001b[0m\u001b[0;34m'Saturday'\u001b[0m\u001b[0;34m,\u001b[0m\u001b[0;34m'Sunday'\u001b[0m\u001b[0;34m]\u001b[0m\u001b[0;34m\u001b[0m\u001b[0;34m\u001b[0m\u001b[0m\n\u001b[0m\u001b[1;32m      4\u001b[0m                                       )\n",
      "\u001b[0;32m~/opt/anaconda3/lib/python3.7/site-packages/pandas/core/frame.py\u001b[0m in \u001b[0;36m__setitem__\u001b[0;34m(self, key, value)\u001b[0m\n\u001b[1;32m   3161\u001b[0m         \u001b[0;32melse\u001b[0m\u001b[0;34m:\u001b[0m\u001b[0;34m\u001b[0m\u001b[0;34m\u001b[0m\u001b[0m\n\u001b[1;32m   3162\u001b[0m             \u001b[0;31m# set column\u001b[0m\u001b[0;34m\u001b[0m\u001b[0;34m\u001b[0m\u001b[0;34m\u001b[0m\u001b[0m\n\u001b[0;32m-> 3163\u001b[0;31m             \u001b[0mself\u001b[0m\u001b[0;34m.\u001b[0m\u001b[0m_set_item\u001b[0m\u001b[0;34m(\u001b[0m\u001b[0mkey\u001b[0m\u001b[0;34m,\u001b[0m \u001b[0mvalue\u001b[0m\u001b[0;34m)\u001b[0m\u001b[0;34m\u001b[0m\u001b[0;34m\u001b[0m\u001b[0m\n\u001b[0m\u001b[1;32m   3164\u001b[0m \u001b[0;34m\u001b[0m\u001b[0m\n\u001b[1;32m   3165\u001b[0m     \u001b[0;32mdef\u001b[0m \u001b[0m_setitem_slice\u001b[0m\u001b[0;34m(\u001b[0m\u001b[0mself\u001b[0m\u001b[0;34m,\u001b[0m \u001b[0mkey\u001b[0m\u001b[0;34m:\u001b[0m \u001b[0mslice\u001b[0m\u001b[0;34m,\u001b[0m \u001b[0mvalue\u001b[0m\u001b[0;34m)\u001b[0m\u001b[0;34m:\u001b[0m\u001b[0;34m\u001b[0m\u001b[0;34m\u001b[0m\u001b[0m\n",
      "\u001b[0;32m~/opt/anaconda3/lib/python3.7/site-packages/pandas/core/frame.py\u001b[0m in \u001b[0;36m_set_item\u001b[0;34m(self, key, value)\u001b[0m\n\u001b[1;32m   3240\u001b[0m         \"\"\"\n\u001b[1;32m   3241\u001b[0m         \u001b[0mself\u001b[0m\u001b[0;34m.\u001b[0m\u001b[0m_ensure_valid_index\u001b[0m\u001b[0;34m(\u001b[0m\u001b[0mvalue\u001b[0m\u001b[0;34m)\u001b[0m\u001b[0;34m\u001b[0m\u001b[0;34m\u001b[0m\u001b[0m\n\u001b[0;32m-> 3242\u001b[0;31m         \u001b[0mvalue\u001b[0m \u001b[0;34m=\u001b[0m \u001b[0mself\u001b[0m\u001b[0;34m.\u001b[0m\u001b[0m_sanitize_column\u001b[0m\u001b[0;34m(\u001b[0m\u001b[0mkey\u001b[0m\u001b[0;34m,\u001b[0m \u001b[0mvalue\u001b[0m\u001b[0;34m)\u001b[0m\u001b[0;34m\u001b[0m\u001b[0;34m\u001b[0m\u001b[0m\n\u001b[0m\u001b[1;32m   3243\u001b[0m         \u001b[0mNDFrame\u001b[0m\u001b[0;34m.\u001b[0m\u001b[0m_set_item\u001b[0m\u001b[0;34m(\u001b[0m\u001b[0mself\u001b[0m\u001b[0;34m,\u001b[0m \u001b[0mkey\u001b[0m\u001b[0;34m,\u001b[0m \u001b[0mvalue\u001b[0m\u001b[0;34m)\u001b[0m\u001b[0;34m\u001b[0m\u001b[0;34m\u001b[0m\u001b[0m\n\u001b[1;32m   3244\u001b[0m \u001b[0;34m\u001b[0m\u001b[0m\n",
      "\u001b[0;32m~/opt/anaconda3/lib/python3.7/site-packages/pandas/core/frame.py\u001b[0m in \u001b[0;36m_sanitize_column\u001b[0;34m(self, key, value, broadcast)\u001b[0m\n\u001b[1;32m   3892\u001b[0m             \u001b[0;31m# as sanitize_index won't copy an EA, even with copy=True\u001b[0m\u001b[0;34m\u001b[0m\u001b[0;34m\u001b[0m\u001b[0;34m\u001b[0m\u001b[0m\n\u001b[1;32m   3893\u001b[0m             \u001b[0mvalue\u001b[0m \u001b[0;34m=\u001b[0m \u001b[0mvalue\u001b[0m\u001b[0;34m.\u001b[0m\u001b[0mcopy\u001b[0m\u001b[0;34m(\u001b[0m\u001b[0;34m)\u001b[0m\u001b[0;34m\u001b[0m\u001b[0;34m\u001b[0m\u001b[0m\n\u001b[0;32m-> 3894\u001b[0;31m             \u001b[0mvalue\u001b[0m \u001b[0;34m=\u001b[0m \u001b[0msanitize_index\u001b[0m\u001b[0;34m(\u001b[0m\u001b[0mvalue\u001b[0m\u001b[0;34m,\u001b[0m \u001b[0mself\u001b[0m\u001b[0;34m.\u001b[0m\u001b[0mindex\u001b[0m\u001b[0;34m)\u001b[0m\u001b[0;34m\u001b[0m\u001b[0;34m\u001b[0m\u001b[0m\n\u001b[0m\u001b[1;32m   3895\u001b[0m \u001b[0;34m\u001b[0m\u001b[0m\n\u001b[1;32m   3896\u001b[0m         \u001b[0;32melif\u001b[0m \u001b[0misinstance\u001b[0m\u001b[0;34m(\u001b[0m\u001b[0mvalue\u001b[0m\u001b[0;34m,\u001b[0m \u001b[0mIndex\u001b[0m\u001b[0;34m)\u001b[0m \u001b[0;32mor\u001b[0m \u001b[0mis_sequence\u001b[0m\u001b[0;34m(\u001b[0m\u001b[0mvalue\u001b[0m\u001b[0;34m)\u001b[0m\u001b[0;34m:\u001b[0m\u001b[0;34m\u001b[0m\u001b[0;34m\u001b[0m\u001b[0m\n",
      "\u001b[0;32m~/opt/anaconda3/lib/python3.7/site-packages/pandas/core/internals/construction.py\u001b[0m in \u001b[0;36msanitize_index\u001b[0;34m(data, index)\u001b[0m\n\u001b[1;32m    750\u001b[0m     \u001b[0;32mif\u001b[0m \u001b[0mlen\u001b[0m\u001b[0;34m(\u001b[0m\u001b[0mdata\u001b[0m\u001b[0;34m)\u001b[0m \u001b[0;34m!=\u001b[0m \u001b[0mlen\u001b[0m\u001b[0;34m(\u001b[0m\u001b[0mindex\u001b[0m\u001b[0;34m)\u001b[0m\u001b[0;34m:\u001b[0m\u001b[0;34m\u001b[0m\u001b[0;34m\u001b[0m\u001b[0m\n\u001b[1;32m    751\u001b[0m         raise ValueError(\n\u001b[0;32m--> 752\u001b[0;31m             \u001b[0;34m\"Length of values \"\u001b[0m\u001b[0;34m\u001b[0m\u001b[0;34m\u001b[0m\u001b[0m\n\u001b[0m\u001b[1;32m    753\u001b[0m             \u001b[0;34mf\"({len(data)}) \"\u001b[0m\u001b[0;34m\u001b[0m\u001b[0;34m\u001b[0m\u001b[0m\n\u001b[1;32m    754\u001b[0m             \u001b[0;34m\"does not match length of index \"\u001b[0m\u001b[0;34m\u001b[0m\u001b[0;34m\u001b[0m\u001b[0m\n",
      "\u001b[0;31mValueError\u001b[0m: Length of values (1) does not match length of index (1030)"
     ]
    }
   ],
   "source": [
    "messages['dayofweek'] = pd.Categorical(messages['date'].dt.day_name,\n",
    "                                       ordered = True,\n",
    "                                       categories= ['Monday','Tuesday','Wednesday','Thursday','Friday','Saturday','Sunday']\n",
    "                                      )"
   ]
  },
  {
   "cell_type": "code",
   "execution_count": 70,
   "metadata": {},
   "outputs": [
    {
     "data": {
      "text/plain": [
       "<AxesSubplot:xlabel='nyear', ylabel='timeofday'>"
      ]
     },
     "execution_count": 70,
     "metadata": {},
     "output_type": "execute_result"
    },
    {
     "data": {
      "image/png": "[encoded data removed]",
      "text/plain": [
       "<Figure size 432x288 with 1 Axes>"
      ]
     },
     "metadata": {
      "needs_background": "light"
     },
     "output_type": "display_data"
    }
   ],
   "source": [
    "dayOfWeek={0:'Monday', 1:'Tuesday', 2:'Wednesday', 3:'Thursday', 4:'Friday', 5:'Saturday', 6:'Sunday'}\n",
    "messages['weekday'] = messages['date'].dt.dayofweek.map(dayOfWeek)\n",
    "messages['timeofday'] = messages['date'].dt.hour + messages['date'].dt.minute/60\n",
    "messages['nyear'] = messages['date'].dt.year + messages['date'].dt.dayofyear/365 +  messages['timeofday']/24/365\n",
    "messages.plot.scatter('nyear', 'timeofday', s = 2)"
   ]
  },
  {
   "cell_type": "code",
   "execution_count": 71,
   "metadata": {},
   "outputs": [
    {
     "data": {
      "text/plain": [
       "<AxesSubplot:xlabel='nyear', ylabel='timeofday'>"
      ]
     },
     "execution_count": 71,
     "metadata": {},
     "output_type": "execute_result"
    },
    {
     "data": {
      "image/png": "[encoded data removed]",
      "text/plain": [
       "<Figure size 432x288 with 1 Axes>"
      ]
     },
     "metadata": {
      "needs_background": "light"
     },
     "output_type": "display_data"
    }
   ],
   "source": [
    "messages.plot.scatter('nyear', 'timeofday', s = 2)"
   ]
  },
  {
   "cell_type": "code",
   "execution_count": 72,
   "metadata": {},
   "outputs": [
    {
     "data": {
      "text/plain": [
       "<AxesSubplot:>"
      ]
     },
     "execution_count": 72,
     "metadata": {},
     "output_type": "execute_result"
    },
    {
     "data": {
      "image/png": "[encoded data removed]",
      "text/plain": [
       "<Figure size 432x288 with 1 Axes>"
      ]
     },
     "metadata": {
      "needs_background": "light"
     },
     "output_type": "display_data"
    }
   ],
   "source": [
    "messages['nyear'].hist()"
   ]
  },
  {
   "cell_type": "code",
   "execution_count": 73,
   "metadata": {},
   "outputs": [
    {
     "data": {
      "text/plain": [
       "<AxesSubplot:>"
      ]
     },
     "execution_count": 73,
     "metadata": {},
     "output_type": "execute_result"
    },
    {
     "data": {
      "image/png": "[encoded data removed]",
      "text/plain": [
       "<Figure size 432x288 with 1 Axes>"
      ]
     },
     "metadata": {
      "needs_background": "light"
     },
     "output_type": "display_data"
    }
   ],
   "source": [
    "messages['timeofday'].hist()"
   ]
  },
  {
   "cell_type": "code",
   "execution_count": 74,
   "metadata": {},
   "outputs": [
    {
     "data": {
      "text/plain": [
       "<AxesSubplot:>"
      ]
     },
     "execution_count": 74,
     "metadata": {},
     "output_type": "execute_result"
    },
    {
     "data": {
      "image/png": "[encoded data removed]",
      "text/plain": [
       "<Figure size 432x288 with 1 Axes>"
      ]
     },
     "metadata": {
      "needs_background": "light"
     },
     "output_type": "display_data"
    }
   ],
   "source": [
    "messages['weekday'].hist()"
   ]
  },
  {
   "cell_type": "code",
   "execution_count": 80,
   "metadata": {},
   "outputs": [
    {
     "data": {
      "text/plain": [
       "<AxesSubplot:>"
      ]
     },
     "execution_count": 80,
     "metadata": {},
     "output_type": "execute_result"
    },
    {
     "data": {
      "image/png": "[encoded data removed]",
      "text/plain": [
       "<Figure size 432x288 with 1 Axes>"
      ]
     },
     "metadata": {
      "needs_background": "light"
     },
     "output_type": "display_data"
    }
   ],
   "source": [
    "messages['weekday'].value_counts(sort = True).plot(kind = 'barh')"
   ]
  },
  {
   "cell_type": "code",
   "execution_count": null,
   "metadata": {},
   "outputs": [],
   "source": []
  }
 ],
 "metadata": {
  "kernelspec": {
   "display_name": "Python 3",
   "language": "python",
   "name": "python3"
  },
  "language_info": {
   "codemirror_mode": {
    "name": "ipython",
    "version": 3
   },
   "file_extension": ".py",
   "mimetype": "text/x-python",
   "name": "python",
   "nbconvert_exporter": "python",
   "pygments_lexer": "ipython3",
   "version": "3.7.10"
  },
  "toc": {
   "base_numbering": 1,
   "nav_menu": {},
   "number_sections": true,
   "sideBar": true,
   "skip_h1_title": false,
   "title_cell": "Table of Contents",
   "title_sidebar": "Contents",
   "toc_cell": false,
   "toc_position": {},
   "toc_section_display": true,
   "toc_window_display": false
  }
 },
 "nbformat": 4,
 "nbformat_minor": 2
}
